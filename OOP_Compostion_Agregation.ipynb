{
 "cells": [
  {
   "cell_type": "code",
   "execution_count": null,
   "id": "d9e730e4",
   "metadata": {},
   "outputs": [],
   "source": [
    "# Aggregation"
   ]
  },
  {
   "cell_type": "code",
   "execution_count": 12,
   "id": "44c68343",
   "metadata": {},
   "outputs": [
    {
     "name": "stdout",
     "output_type": "stream",
     "text": [
      "10-ENG\n"
     ]
    }
   ],
   "source": [
    "class Student:\n",
    "\n",
    "    def __init__(self, id):\n",
    "        self._id = id\n",
    "\n",
    "    def registration_number(self, department_id) -> str:\n",
    "        return str(self._id) + '-' + department_id\n",
    "\n",
    "\n",
    "class Department:\n",
    "\n",
    "    def __init__(self, id, student):\n",
    "        self._id = id\n",
    "        self._student = student\n",
    "\n",
    "    def student_registration(self):\n",
    "        return self._student.registration_number(self._id)\n",
    "\n",
    "\n",
    "if __name__ == '__main__':\n",
    "    john_doe = Student(student_id = 10)\n",
    "    english_department = Department(department_id = 'ENG', student = john_doe)\n",
    "    print(english_department.student_registration())"
   ]
  },
  {
   "cell_type": "code",
   "execution_count": 2,
   "id": "a6d728a4",
   "metadata": {},
   "outputs": [],
   "source": [
    "# Composition"
   ]
  },
  {
   "cell_type": "code",
   "execution_count": 3,
   "id": "f0e0a13c",
   "metadata": {},
   "outputs": [
    {
     "name": "stdout",
     "output_type": "stream",
     "text": [
      "10-ENG\n"
     ]
    }
   ],
   "source": [
    "class Student:\n",
    "\n",
    "    def __init__(self, id):\n",
    "        self._id = id\n",
    "\n",
    "    def registration_number(self, department_id) -> str:\n",
    "        return str(self._id) + '-' + department_id\n",
    "\n",
    "\n",
    "class Department:\n",
    "\n",
    "    def __init__(self, department_id, student_id):\n",
    "        self._id = department_id\n",
    "        self._student = Student(student_id)\n",
    "\n",
    "    def student_registration(self):\n",
    "        return self._student.registration_number(self._id)\n",
    "\n",
    "\n",
    "if __name__ == '__main__':\n",
    "    department = Department('ENG', 10)\n",
    "    print(department.student_registration())"
   ]
  },
  {
   "cell_type": "code",
   "execution_count": null,
   "id": "ed4337a6",
   "metadata": {},
   "outputs": [],
   "source": []
  }
 ],
 "metadata": {
  "kernelspec": {
   "display_name": "Python 3 (ipykernel)",
   "language": "python",
   "name": "python3"
  },
  "language_info": {
   "codemirror_mode": {
    "name": "ipython",
    "version": 3
   },
   "file_extension": ".py",
   "mimetype": "text/x-python",
   "name": "python",
   "nbconvert_exporter": "python",
   "pygments_lexer": "ipython3",
   "version": "3.8.10"
  }
 },
 "nbformat": 4,
 "nbformat_minor": 5
}
