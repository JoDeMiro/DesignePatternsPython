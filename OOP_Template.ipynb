{
 "cells": [
  {
   "cell_type": "markdown",
   "metadata": {
    "colab_type": "text",
    "id": "view-in-github"
   },
   "source": [
    "<a href=\"https://colab.research.google.com/github/JoDeMiro/DesignePatternsPython/blob/main/OOP_Template.ipynb\" target=\"_parent\"><img src=\"https://colab.research.google.com/assets/colab-badge.svg\" alt=\"Open In Colab\"/></a>"
   ]
  },
  {
   "cell_type": "code",
   "execution_count": 1,
   "metadata": {
    "id": "p4sN0pbQKZhh"
   },
   "outputs": [],
   "source": [
    "# https://www.youtube.com/watch?v=t0mCrXHsLbI&ab_channel=ArjanCodes"
   ]
  },
  {
   "cell_type": "code",
   "execution_count": 2,
   "metadata": {
    "id": "_Ob0ZTAJLWYM"
   },
   "outputs": [],
   "source": [
    "from abc import ABC, abstractmethod"
   ]
  },
  {
   "cell_type": "code",
   "execution_count": 43,
   "metadata": {
    "id": "xJe-J2HANrea"
   },
   "outputs": [],
   "source": [
    "class Dog(ABC):\n",
    "\n",
    "  def __init__(self):\n",
    "    self.stay = False\n",
    "    self.fight = False\n",
    "    self.leave = False\n",
    "\n",
    "  def connect(self):\n",
    "    print('Now get energy')\n",
    "\n",
    "  def get_energy_level(self, enemy):\n",
    "    return enemy.get_energy_level\n",
    "  \n",
    "  @abstractmethod\n",
    "  def should_stay(self, enemy):\n",
    "    pass\n",
    "  \n",
    "  @abstractmethod\n",
    "  def should_fight(self, enemy):\n",
    "    pass\n",
    "  \n",
    "  @abstractmethod\n",
    "  def should_leave(self, enemy):\n",
    "    pass"
   ]
  },
  {
   "cell_type": "code",
   "execution_count": 75,
   "metadata": {
    "id": "bB2kYdAMNug7"
   },
   "outputs": [],
   "source": [
    "class PeacefullDog(Dog):\n",
    "  def should_stay(self, enemy):\n",
    "    if enemy.get_energy_level() < 10:\n",
    "      self.stay = True\n",
    "    return self.stay\n",
    "  \n",
    "  def should_fight(self, enemy):\n",
    "    if enemy.get_energy_level() > 10 and enemy.get_energy_level() < 20:\n",
    "      self.fight = True\n",
    "    return self.fight\n",
    "  \n",
    "  def should_leave(self, enemy):\n",
    "    if enemy.get_energy_level() > 20:\n",
    "      self.leave = True\n",
    "    return self.leave"
   ]
  },
  {
   "cell_type": "code",
   "execution_count": 76,
   "metadata": {
    "id": "gDbSHpdbNwOH"
   },
   "outputs": [],
   "source": [
    "class AngryDog(Dog):\n",
    "  def should_stay(self, enemy):\n",
    "    if enemy.get_energy_level() < 20:\n",
    "      self.stay = True\n",
    "    return self.stay\n",
    "  \n",
    "  def should_fight(self, enemy):\n",
    "    if enemy.get_energy_level() > 20 and enemy.get_energy_level() < 40:\n",
    "      self.fight = True\n",
    "    return self.fight\n",
    "  \n",
    "  def should_leave(self, enemy):\n",
    "    if enemy.get_energy_level() > 40:\n",
    "      self.leave = True\n",
    "    return self.leave"
   ]
  },
  {
   "cell_type": "code",
   "execution_count": 77,
   "metadata": {
    "id": "XvWN7TSoOC28"
   },
   "outputs": [],
   "source": [
    "class Enemy():\n",
    "  \n",
    "  def __init__(self, energy_level):\n",
    "    self.energy_level = energy_level\n",
    "  \n",
    "  def get_energy_level(self):\n",
    "    return self.energy_level"
   ]
  },
  {
   "cell_type": "code",
   "execution_count": 78,
   "metadata": {
    "id": "4l1kQBfGOqkF"
   },
   "outputs": [],
   "source": [
    "weak_enemy = Enemy(6)\n",
    "strong_enemy = Enemy(23)"
   ]
  },
  {
   "cell_type": "code",
   "execution_count": 88,
   "metadata": {
    "colab": {
     "base_uri": "https://localhost:8080/"
    },
    "id": "OWa-owo2OynR",
    "outputId": "cc11cd72-c9e8-4c5e-f98c-e4a2aaba2195"
   },
   "outputs": [
    {
     "name": "stdout",
     "output_type": "stream",
     "text": [
      "result should stay  =  True\n",
      "result should fight =  False\n",
      "result should fight =  True\n",
      "result should stay  =  True\n",
      "result should fight =  False\n",
      "result should fight =  False\n"
     ]
    }
   ],
   "source": [
    "loren = AngryDog()\n",
    "\n",
    "result = loren.should_stay(weak_enemy)\n",
    "print('result should stay  = ', result)\n",
    "\n",
    "result = loren.should_fight(weak_enemy)\n",
    "print('result should fight = ', result)\n",
    "\n",
    "result = loren.should_fight(strong_enemy)\n",
    "print('result should fight = ', result)\n",
    "\n",
    "\n",
    "mazsi = PeacefullDog()\n",
    "\n",
    "result = mazsi.should_stay(weak_enemy)\n",
    "print('result should stay  = ', result)\n",
    "\n",
    "result = mazsi.should_fight(weak_enemy)\n",
    "print('result should fight = ', result)\n",
    "\n",
    "result = mazsi.should_fight(strong_enemy)\n",
    "print('result should fight = ', result)"
   ]
  },
  {
   "cell_type": "code",
   "execution_count": 58,
   "metadata": {
    "id": "PHmer8D1JzSm"
   },
   "outputs": [],
   "source": []
  },
  {
   "cell_type": "code",
   "execution_count": null,
   "metadata": {
    "id": "Qb-s3HaYLeJk"
   },
   "outputs": [],
   "source": []
  }
 ],
 "metadata": {
  "colab": {
   "authorship_tag": "ABX9TyOyvCcPSZONDIgJSSFWniFZ",
   "collapsed_sections": [],
   "include_colab_link": true,
   "name": "OOP - Template.ipynb",
   "provenance": []
  },
  "kernelspec": {
   "display_name": "Python 3 (ipykernel)",
   "language": "python",
   "name": "python3"
  },
  "language_info": {
   "codemirror_mode": {
    "name": "ipython",
    "version": 3
   },
   "file_extension": ".py",
   "mimetype": "text/x-python",
   "name": "python",
   "nbconvert_exporter": "python",
   "pygments_lexer": "ipython3",
   "version": "3.8.10"
  }
 },
 "nbformat": 4,
 "nbformat_minor": 1
}
