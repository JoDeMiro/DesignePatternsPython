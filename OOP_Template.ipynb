{
  "nbformat": 4,
  "nbformat_minor": 0,
  "metadata": {
    "colab": {
      "name": "OOP - Template.ipynb",
      "provenance": [],
      "collapsed_sections": [],
      "authorship_tag": "ABX9TyOyvCcPSZONDIgJSSFWniFZ",
      "include_colab_link": true
    },
    "kernelspec": {
      "name": "python3",
      "display_name": "Python 3"
    },
    "language_info": {
      "name": "python"
    }
  },
  "cells": [
    {
      "cell_type": "markdown",
      "metadata": {
        "id": "view-in-github",
        "colab_type": "text"
      },
      "source": [
        "<a href=\"https://colab.research.google.com/github/JoDeMiro/DesignePatternsPython/blob/main/OOP_Template.ipynb\" target=\"_parent\"><img src=\"https://colab.research.google.com/assets/colab-badge.svg\" alt=\"Open In Colab\"/></a>"
      ]
    },
    {
      "cell_type": "code",
      "metadata": {
        "id": "p4sN0pbQKZhh"
      },
      "source": [
        "# https://www.youtube.com/watch?v=t0mCrXHsLbI&ab_channel=ArjanCodes"
      ],
      "execution_count": 1,
      "outputs": []
    },
    {
      "cell_type": "code",
      "metadata": {
        "id": "_Ob0ZTAJLWYM"
      },
      "source": [
        "from abc import ABC, abstractmethod"
      ],
      "execution_count": 2,
      "outputs": []
    },
    {
      "cell_type": "code",
      "metadata": {
        "id": "xJe-J2HANrea"
      },
      "source": [
        "class Dog(ABC):\n",
        "\n",
        "  def __init__(self):\n",
        "    self.stay = False\n",
        "    self.fight = False\n",
        "    self.leave = False\n",
        "\n",
        "  def connect(self):\n",
        "    print('Now get energy')\n",
        "\n",
        "  def get_energy_level(self, enemy):\n",
        "    return enemy.get_energy_level\n",
        "  \n",
        "  @abstractmethod\n",
        "  def should_stay(self, enemy):\n",
        "    pass\n",
        "  \n",
        "  @abstractmethod\n",
        "  def should_fight(self, enemy):\n",
        "    pass\n",
        "  \n",
        "  @abstractmethod\n",
        "  def should_leave(self, enemy):\n",
        "    pass"
      ],
      "execution_count": 43,
      "outputs": []
    },
    {
      "cell_type": "code",
      "metadata": {
        "id": "bB2kYdAMNug7"
      },
      "source": [
        "class PeacefullDog(Dog):\n",
        "  def should_stay(self, enemy):\n",
        "    if enemy.get_energy_level() < 10:\n",
        "      self.stay = True\n",
        "    return self.stay\n",
        "  \n",
        "  def should_fight(self, enemy):\n",
        "    if enemy.get_energy_level() > 10 and enemy.get_energy_level() < 20:\n",
        "      self.fight = True\n",
        "    return self.fight\n",
        "  \n",
        "  def should_leave(self, enemy):\n",
        "    if enemy.get_energy_level() > 20:\n",
        "      self.leave = True\n",
        "    return self.leave"
      ],
      "execution_count": 75,
      "outputs": []
    },
    {
      "cell_type": "code",
      "metadata": {
        "id": "gDbSHpdbNwOH"
      },
      "source": [
        "class AngryDog(Dog):\n",
        "  def should_stay(self, enemy):\n",
        "    if enemy.get_energy_level() < 20:\n",
        "      self.stay = True\n",
        "    return self.stay\n",
        "  \n",
        "  def should_fight(self, enemy):\n",
        "    if enemy.get_energy_level() > 20 and enemy.get_energy_level() < 40:\n",
        "      self.fight = True\n",
        "    return self.fight\n",
        "  \n",
        "  def should_leave(self, enemy):\n",
        "    if enemy.get_energy_level() > 40:\n",
        "      self.leave = True\n",
        "    return self.leave"
      ],
      "execution_count": 76,
      "outputs": []
    },
    {
      "cell_type": "code",
      "metadata": {
        "id": "XvWN7TSoOC28"
      },
      "source": [
        "class Enemy():\n",
        "  \n",
        "  def __init__(self, energy_level):\n",
        "    self.energy_level = energy_level\n",
        "  \n",
        "  def get_energy_level(self):\n",
        "    return self.energy_level"
      ],
      "execution_count": 77,
      "outputs": []
    },
    {
      "cell_type": "code",
      "metadata": {
        "id": "4l1kQBfGOqkF"
      },
      "source": [
        "weak_enemy = Enemy(6)\n",
        "strong_enemy = Enemy(23)"
      ],
      "execution_count": 78,
      "outputs": []
    },
    {
      "cell_type": "code",
      "metadata": {
        "colab": {
          "base_uri": "https://localhost:8080/"
        },
        "id": "OWa-owo2OynR",
        "outputId": "cc11cd72-c9e8-4c5e-f98c-e4a2aaba2195"
      },
      "source": [
        "loren = AngryDog()\n",
        "\n",
        "result = loren.should_stay(weak_enemy)\n",
        "print('result should stay  = ', result)\n",
        "\n",
        "result = loren.should_fight(weak_enemy)\n",
        "print('result should fight = ', result)\n",
        "\n",
        "result = loren.should_fight(strong_enemy)\n",
        "print('result should fight = ', result)\n",
        "\n",
        "\n",
        "mazsi = PeacefullDog()\n",
        "\n",
        "result = mazsi.should_stay(weak_enemy)\n",
        "print('result should stay  = ', result)\n",
        "\n",
        "result = mazsi.should_fight(weak_enemy)\n",
        "print('result should fight = ', result)\n",
        "\n",
        "result = mazsi.should_fight(strong_enemy)\n",
        "print('result should fight = ', result)"
      ],
      "execution_count": 88,
      "outputs": [
        {
          "output_type": "stream",
          "name": "stdout",
          "text": [
            "result should stay  =  True\n",
            "result should fight =  False\n",
            "result should fight =  True\n",
            "result should stay  =  True\n",
            "result should fight =  False\n",
            "result should fight =  False\n"
          ]
        }
      ]
    },
    {
      "cell_type": "code",
      "metadata": {
        "id": "PHmer8D1JzSm"
      },
      "source": [
        ""
      ],
      "execution_count": 58,
      "outputs": []
    },
    {
      "cell_type": "code",
      "metadata": {
        "id": "Qb-s3HaYLeJk"
      },
      "source": [
        ""
      ],
      "execution_count": null,
      "outputs": []
    }
  ]
}