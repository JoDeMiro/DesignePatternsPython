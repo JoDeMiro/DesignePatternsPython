{
 "cells": [
  {
   "cell_type": "markdown",
   "id": "c38b8f34",
   "metadata": {},
   "source": [
    "# Builder Designe Pattern\n",
    "\n",
    "https://refactoring.guru/design-patterns/builder\n",
    "\n",
    "https://refactoring.guru/design-patterns/builder/python/example\n",
    "\n",
    "This example illustrates the structure of the **Builder** design pattern. It focuses on answering these questions:\n",
    "\n",
    "- What classes does it consist of?\n",
    "- What roles do these classes play?\n",
    "- In what way the elements of the pattern are related?\n",
    "\n",
    "**Usage examples:** The Builder pattern is a well-known pattern in Python world. It’s especially useful when you need to create an object with lots of possible configuration options.\n",
    "\n",
    "**Identification:** The Builder pattern can be recognized in a class, which has a single creation method and several methods to configure the resulting object. Builder methods often support chaining (for example, ```someBuilder.setValueA(1).setValueB(2).create())```."
   ]
  },
  {
   "cell_type": "code",
   "execution_count": 3,
   "id": "7fe51628",
   "metadata": {},
   "outputs": [],
   "source": [
    "from __future__ import annotations\n",
    "from abc import ABC, abstractmethod\n",
    "from typing import Any"
   ]
  },
  {
   "cell_type": "code",
   "execution_count": 19,
   "id": "ee253a7e",
   "metadata": {},
   "outputs": [],
   "source": [
    "# https://www.digitalocean.com/community/tutorials/builder-design-pattern-in-java"
   ]
  },
  {
   "cell_type": "code",
   "execution_count": 1,
   "id": "3a8b4f6b",
   "metadata": {},
   "outputs": [
    {
     "name": "stdout",
     "output_type": "stream",
     "text": [
      "ssd, 16Gb, False, False\n",
      "hdd, 8Gb, True, False\n",
      "ssd, 4Gb, True, True\n"
     ]
    }
   ],
   "source": [
    "class Computer():\n",
    "    \n",
    "    __hdd: str = None\n",
    "    __ram: str = None\n",
    "    \n",
    "    __isGraphicsCardEnabled: bool = None\n",
    "    __isBluetoothEnabled: bool = None\n",
    "    \n",
    "    @property\n",
    "    def hdd(self):\n",
    "        return self.__hdd\n",
    "    \n",
    "    @property\n",
    "    def ram(self):\n",
    "        return self.__ram\n",
    "        \n",
    "    def get_isGraphicsCardEnabled(self):\n",
    "        return self.__isGraphicsCardEnabled\n",
    "    \n",
    "    def get_isBluetoothEnabled(self):\n",
    "        return self.__isBluetoothEnabled\n",
    "\n",
    "    def __str__(self):\n",
    "        return str(self.__class__) + \": \" + str(self.__dict__)\n",
    "    \n",
    "    def info(self):\n",
    "        return str(self.__hdd) + \", \" + str(self.__ram) + \", \" + str(self.__isGraphicsCardEnabled()) + \", \" + str(self.__isBluetoothEnabled)\n",
    "\n",
    "    def __init__(self, builder):\n",
    "        self.__hdd = builder.hdd\n",
    "        self.__ram = builder.ram\n",
    "        self.__isGraphicsCardEnabled = builder.get_isGraphicsCardEnabled\n",
    "        self.__isBluetoothEnabled = builder.isBluetoothEnabled\n",
    "\n",
    "\n",
    "\n",
    "# staticnak kéne lennie ()\n",
    "class ComputerBuilder():\n",
    "    \n",
    "    hdd: str = None\n",
    "    __ram: str = None\n",
    "    \n",
    "    __isGraphicsCardEnabled: bool = False\n",
    "    __isBluetoothEnabled: bool = False\n",
    "\n",
    "    def __init__(self, hdd: str, ram: str):\n",
    "        self.hdd = hdd\n",
    "        self.__ram = ram\n",
    "    \n",
    "    def setGraphicsCardEnabled(self, isGraphicsCardEnabled: bool):\n",
    "        self.__isGraphicsCardEnabled = isGraphicsCardEnabled\n",
    "        return self\n",
    "    \n",
    "    def setBluetoothEnabled(self, isBluetoothEnabled: bool):\n",
    "        self.__isBluetoothEnabled = isBluetoothEnabled\n",
    "        return self\n",
    "    \n",
    "    @property\n",
    "    def ram(self):\n",
    "        return self.__ram\n",
    "    \n",
    "    def get_isGraphicsCardEnabled(self):\n",
    "        return self.__isGraphicsCardEnabled\n",
    "    \n",
    "    @property\n",
    "    def isBluetoothEnabled(self):\n",
    "        pass\n",
    "    \n",
    "    @isBluetoothEnabled.getter\n",
    "    def isBluetoothEnabled(self):\n",
    "        return self.__isBluetoothEnabled\n",
    "    \n",
    "    # staticnak kéne lennie ()\n",
    "    def build(self) -> Computer:\n",
    "        return Computer(self)\n",
    "\n",
    "\n",
    "if __name__ == '__main__':\n",
    "    \n",
    "    ibm = ComputerBuilder('ssd', '16Gb').build()\n",
    "    \n",
    "    print(ibm.info())\n",
    "    \n",
    "    ibm = ComputerBuilder('hdd', '8Gb').setGraphicsCardEnabled(True).build()\n",
    "    \n",
    "    print(ibm.info())\n",
    "    \n",
    "    ibm = ComputerBuilder('ssd', '4Gb').setGraphicsCardEnabled(True).setBluetoothEnabled(True).build()\n",
    "    \n",
    "    print(ibm.info())"
   ]
  },
  {
   "cell_type": "code",
   "execution_count": null,
   "id": "aa67acb0",
   "metadata": {},
   "outputs": [],
   "source": []
  }
 ],
 "metadata": {
  "kernelspec": {
   "display_name": "Python 3 (ipykernel)",
   "language": "python",
   "name": "python3"
  },
  "language_info": {
   "codemirror_mode": {
    "name": "ipython",
    "version": 3
   },
   "file_extension": ".py",
   "mimetype": "text/x-python",
   "name": "python",
   "nbconvert_exporter": "python",
   "pygments_lexer": "ipython3",
   "version": "3.8.10"
  }
 },
 "nbformat": 4,
 "nbformat_minor": 5
}
