{
 "cells": [
  {
   "cell_type": "markdown",
   "id": "efc2eabe",
   "metadata": {},
   "source": [
    "# Chain of Resoponsibility\n",
    "\n",
    "https://refactoring.guru/design-patterns/chain-of-responsibility\n",
    "\n",
    "https://refactoring.guru/design-patterns/chain-of-responsibility/python/example\n",
    "\n",
    "This example illustrates the structure of the **Chain of Responsibility** design pattern. It focuses on answering these questions:\n",
    "\n",
    "- What classes does it consist of?\n",
    "- What roles do these classes play?\n",
    "- In what way the elements of the pattern are related?\n",
    "\n",
    "**Usage examples:** The Chain of Responsibility is pretty common in Python. It’s mostly relevant when your code operates with chains of objects, such as filters, event chains, etc.\n",
    "\n",
    "**Identification:** The pattern is recognizable by behavioral methods of one group of objects that indirectly call the same methods in other objects, while all the objects follow the common interface.\n"
   ]
  },
  {
   "cell_type": "code",
   "execution_count": 2,
   "id": "2ef2442b",
   "metadata": {},
   "outputs": [],
   "source": [
    "from __future__ import annotations\n",
    "from abc import ABC, abstractmethod\n",
    "from typing import Any, Optional"
   ]
  },
  {
   "cell_type": "code",
   "execution_count": 3,
   "id": "d5e8a600",
   "metadata": {},
   "outputs": [],
   "source": [
    "class Handler(ABC):\n",
    "    \"\"\"\n",
    "    The Handler interface declares a method for building the chain of handlers.\n",
    "    It also declares a method for executing a request.\n",
    "    \"\"\"\n",
    "\n",
    "    @abstractmethod\n",
    "    def set_next(self, handler: Handler) -> Handler:\n",
    "        pass\n",
    "\n",
    "    @abstractmethod\n",
    "    def handle(self, request) -> Optional[str]:\n",
    "        pass\n",
    "    "
   ]
  },
  {
   "cell_type": "code",
   "execution_count": 4,
   "id": "0bccfc4c",
   "metadata": {},
   "outputs": [],
   "source": [
    "class AbstractHandler(Handler):\n",
    "    \"\"\"\n",
    "    The default chaining behavior can be implemented inside a base handler\n",
    "    class.\n",
    "    \"\"\"\n",
    "\n",
    "    _next_handler: Handler = None\n",
    "\n",
    "    def set_next(self, handler: Handler) -> Handler:\n",
    "        self._next_handler = handler\n",
    "        # Returning a handler from here will let us link handlers in a\n",
    "        # convenient way like this:\n",
    "        # monkey.set_next(squirrel).set_next(dog)\n",
    "        return handler\n",
    "\n",
    "    @abstractmethod\n",
    "    def handle(self, request: Any) -> str:\n",
    "        if self._next_handler:\n",
    "            return self._next_handler.handle(request)\n",
    "\n",
    "        return None\n",
    "    "
   ]
  },
  {
   "cell_type": "code",
   "execution_count": 7,
   "id": "524a2072",
   "metadata": {},
   "outputs": [],
   "source": [
    "\n",
    "\"\"\"\n",
    "All Concrete Handlers either handle a request or pass it to the next handler in\n",
    "the chain.\n",
    "\"\"\"\n",
    "\n",
    "\n",
    "class MonkeyHandler(AbstractHandler):\n",
    "    def handle(self, request: Any) -> str:\n",
    "        if request == \"Banana\":\n",
    "            return f\"Monkey: I'll eat the {request}\"\n",
    "        else:\n",
    "            return super().handle(request)\n",
    "\n",
    "\n",
    "class SquirrelHandler(AbstractHandler):\n",
    "    def handle(self, request: Any) -> str:\n",
    "        if request == \"Nut\":\n",
    "            return f\"Squirrel: I'll eat the {request}\"\n",
    "        else:\n",
    "            return super().handle(request)\n",
    "\n",
    "\n",
    "class DogHandler(AbstractHandler):\n",
    "    def handle(self, request: Any) -> str:\n",
    "        if request == \"MeatBall\":\n",
    "            return f\"Dog: I'll eat the {request}\"\n",
    "        else:\n",
    "            return super().handle(request)\n"
   ]
  },
  {
   "cell_type": "code",
   "execution_count": 8,
   "id": "baa9bf06",
   "metadata": {},
   "outputs": [
    {
     "name": "stdout",
     "output_type": "stream",
     "text": [
      "Chain: Monkey > Squirrel > Dog\n",
      "\n",
      "Client: Who wants a Nut?\n",
      "  Squirrel: I'll eat the Nut\n",
      "Client: Who wants a Banana?\n",
      "  Monkey: I'll eat the Banana\n",
      "Client: Who wants a Cup of coffee?\n",
      "  Cup of coffee was left untouched.\n",
      "\n",
      "Subchain: Squirrel > Dog\n",
      "\n",
      "Client: Who wants a Nut?\n",
      "  Squirrel: I'll eat the Nut\n",
      "Client: Who wants a Banana?\n",
      "  Banana was left untouched.\n",
      "Client: Who wants a Cup of coffee?\n",
      "  Cup of coffee was left untouched."
     ]
    }
   ],
   "source": [
    "\n",
    "def client_code(handler: Handler) -> None:\n",
    "    \"\"\"\n",
    "    The client code is usually suited to work with a single handler. In most\n",
    "    cases, it is not even aware that the handler is part of a chain.\n",
    "    \"\"\"\n",
    "\n",
    "    for food in [\"Nut\", \"Banana\", \"Cup of coffee\"]:\n",
    "        print(f\"\\nClient: Who wants a {food}?\")\n",
    "        result = handler.handle(food)\n",
    "        if result:\n",
    "            print(f\"  {result}\", end=\"\")\n",
    "        else:\n",
    "            print(f\"  {food} was left untouched.\", end=\"\")\n",
    "\n",
    "            \n",
    "if __name__ == \"__main__\":\n",
    "    \n",
    "    monkey = MonkeyHandler()\n",
    "    squirrel = SquirrelHandler()\n",
    "    dog = DogHandler()\n",
    "\n",
    "    monkey.set_next(squirrel).set_next(dog)\n",
    "\n",
    "    # The client should be able to send a request to any handler, not just the\n",
    "    # first one in the chain.\n",
    "    \n",
    "    print(\"Chain: Monkey > Squirrel > Dog\")\n",
    "    client_code(monkey)\n",
    "    print(\"\\n\")\n",
    "\n",
    "    print(\"Subchain: Squirrel > Dog\")\n",
    "    client_code(squirrel)\n"
   ]
  },
  {
   "cell_type": "code",
   "execution_count": null,
   "id": "04ce6907",
   "metadata": {},
   "outputs": [],
   "source": []
  }
 ],
 "metadata": {
  "kernelspec": {
   "display_name": "Python 3 (ipykernel)",
   "language": "python",
   "name": "python3"
  },
  "language_info": {
   "codemirror_mode": {
    "name": "ipython",
    "version": 3
   },
   "file_extension": ".py",
   "mimetype": "text/x-python",
   "name": "python",
   "nbconvert_exporter": "python",
   "pygments_lexer": "ipython3",
   "version": "3.8.10"
  }
 },
 "nbformat": 4,
 "nbformat_minor": 5
}
