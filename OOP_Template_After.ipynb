{
  "nbformat": 4,
  "nbformat_minor": 0,
  "metadata": {
    "colab": {
      "name": "OOP - Template - After.ipynb",
      "provenance": [],
      "collapsed_sections": [],
      "authorship_tag": "ABX9TyPOxc+unJuap7ORsNrCXHFn",
      "include_colab_link": true
    },
    "kernelspec": {
      "name": "python3",
      "display_name": "Python 3"
    },
    "language_info": {
      "name": "python"
    }
  },
  "cells": [
    {
      "cell_type": "markdown",
      "metadata": {
        "id": "view-in-github",
        "colab_type": "text"
      },
      "source": [
        "<a href=\"https://colab.research.google.com/github/JoDeMiro/DesignePatternsPython/blob/main/OOP_Template_After.ipynb\" target=\"_parent\"><img src=\"https://colab.research.google.com/assets/colab-badge.svg\" alt=\"Open In Colab\"/></a>"
      ]
    },
    {
      "cell_type": "code",
      "metadata": {
        "id": "34VAG0dXiNCN"
      },
      "source": [
        "# https://www.youtube.com/watch?v=t0mCrXHsLbI&ab_channel=ArjanCodes"
      ],
      "execution_count": 1,
      "outputs": []
    },
    {
      "cell_type": "code",
      "metadata": {
        "id": "sjFC7j1Oihca"
      },
      "source": [
        "from abc import ABC, abstractmethod\n",
        "from typing import List"
      ],
      "execution_count": 3,
      "outputs": []
    },
    {
      "cell_type": "code",
      "metadata": {
        "colab": {
          "base_uri": "https://localhost:8080/"
        },
        "id": "i2X7ILuwiZZz",
        "outputId": "6e4c2fa3-ff07-40db-847f-d34f31dd5d01"
      },
      "source": [
        "class TradingBot(ABC):\n",
        "    \n",
        "    def connect(self):\n",
        "        print(f\"Connecting to Crypto exchange...\")\n",
        "\n",
        "    def get_market_data(self, coin: str) -> List[float]:\n",
        "        return [10, 12, 18, 14]\n",
        "\n",
        "    def check_prices(self, coin: str):\n",
        "        self.connect()\n",
        "        prices = self.get_market_data(coin)\n",
        "        should_buy = self.should_buy(prices)\n",
        "        should_sell = self.should_sell(prices)\n",
        "        if should_buy:\n",
        "            print(f\"You should buy {coin}!\")\n",
        "        elif should_sell:\n",
        "            print(f\"You should sell {coin}!\")\n",
        "        else:\n",
        "            print(f\"No action needed for {coin}.\")\n",
        "\n",
        "    @abstractmethod\n",
        "    def should_buy(self, prices: List[float]) -> bool:\n",
        "        pass\n",
        "\n",
        "    @abstractmethod\n",
        "    def should_sell(self, prices: List[float]) -> bool:\n",
        "        pass\n",
        "\n",
        "class AverageTrader(TradingBot):\n",
        "\n",
        "    def list_average(self, l: List[float]) -> float:\n",
        "        return sum(l) / len(l)\n",
        "\n",
        "    def should_buy(self, prices: List[float]) -> bool:\n",
        "        return prices[-1] < self.list_average(prices)\n",
        "\n",
        "    def should_sell(self, prices: List[float]) -> bool:\n",
        "        return prices[-1] > self.list_average(prices)\n",
        "\n",
        "class MinMaxTrader(TradingBot):\n",
        "\n",
        "    def should_buy(self, prices: List[float]) -> bool:\n",
        "        return prices[-1] == min(prices)\n",
        "\n",
        "    def should_sell(self, prices: List[float]) -> bool:\n",
        "        return prices[-1] == max(prices)\n",
        "\n",
        "application = MinMaxTrader()\n",
        "application.check_prices(\"BTC/USD\")"
      ],
      "execution_count": 4,
      "outputs": [
        {
          "output_type": "stream",
          "name": "stdout",
          "text": [
            "Connecting to Crypto exchange...\n",
            "No action needed for BTC/USD.\n"
          ]
        }
      ]
    },
    {
      "cell_type": "code",
      "metadata": {
        "id": "n0Twsbnriiqq"
      },
      "source": [
        ""
      ],
      "execution_count": null,
      "outputs": []
    }
  ]
}