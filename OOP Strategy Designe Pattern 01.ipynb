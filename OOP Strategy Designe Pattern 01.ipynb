{
 "cells": [
  {
   "cell_type": "markdown",
   "id": "33fc2305",
   "metadata": {},
   "source": [
    "# Strategy Designe Pattern\n",
    "\n",
    "```\n",
    "The Strategy Pattern defines a family of algorithms, encapsulates each one, and makes them interchangeable. Strategy lets the algorithm vary independently from clients that use it.\n",
    "```\n",
    "\n",
    "To understand the strategy design pattern, let's take an example of a transport system. You are developing an application, which provides the time estimation for user-selected routes. There are different kinds of transports available like public transport, car, and bike. Each mood of transport has different estimation times based on their speed and other factors.\n",
    "\n",
    "The simple approach to solve it is using the if…else conditions. Each transport mood will be available in a different ‘if ’block of code. This approach will lead to problems while maintaining the code in the long run. Each time we need to add new functionality, code modification will be required. The better approach to implement it is by using the strategy design pattern.\n",
    "\n",
    "In the context of strategy pattern, we will define the family of algorithms as Car, Public Transport, Bike and encapsulated it using the Transport interface. A user can use these algorithms independently to estimate travel time.\n",
    "\n",
    "**Strategy pattern lets you change the behavior at runtime by using composition.**\n",
    "\n",
    "\n"
   ]
  },
  {
   "cell_type": "code",
   "execution_count": 1,
   "id": "cce59769",
   "metadata": {},
   "outputs": [],
   "source": [
    "from abc import ABC, abstractmethod\n",
    "import datetime"
   ]
  },
  {
   "cell_type": "code",
   "execution_count": 2,
   "id": "20e5a9f5",
   "metadata": {},
   "outputs": [],
   "source": [
    "class Transport(ABC):\n",
    "    \"\"\"AN interface for each mood of transport\"\"\"\n",
    "\n",
    "    @abstractmethod\n",
    "    def operation(self, speed):\n",
    "        \"\"\"Each class will provide its own implementation using this function.\"\"\"\n",
    "        pass\n",
    "\n",
    "\n",
    "class PublicTransport(Transport):\n",
    "    speed = 50\n",
    "\n",
    "    def operation(self, distance):\n",
    "        estimated_hours = distance / self.speed\n",
    "        return str(datetime.timedelta(hours=estimated_hours))\n",
    "\n",
    "\n",
    "class Car(Transport):\n",
    "    speed = 90\n",
    "\n",
    "    def operation(self, distance):\n",
    "        estimated_hours = distance / self.speed\n",
    "        return str(datetime.timedelta(hours=estimated_hours))\n",
    "\n",
    "\n",
    "class Bike(Transport):\n",
    "    speed = 75\n",
    "\n",
    "    def operation(self, distance):\n",
    "        estimated_hours = distance / self.speed\n",
    "        return str(datetime.timedelta(hours=estimated_hours))"
   ]
  },
  {
   "cell_type": "markdown",
   "id": "a4ea5799",
   "metadata": {},
   "source": [
    "Route selection and time estimation code are available in the route_selection.py file."
   ]
  },
  {
   "cell_type": "code",
   "execution_count": 4,
   "id": "bbcb010c",
   "metadata": {},
   "outputs": [
    {
     "name": "stdout",
     "output_type": "stream",
     "text": [
      "Estimated time to reach destination:  1:12:00\n",
      "Estimated time to reach destination:  0:40:00\n",
      "Estimated time to reach destination:  0:48:00\n"
     ]
    }
   ],
   "source": [
    "# from transport import *\n",
    "\n",
    "class RouteSelection:\n",
    "\n",
    "    def __init__(self, transport):\n",
    "        \"\"\"self._transport references the objects of other transport classes. Its called composition.\"\"\"\n",
    "        self._transport = transport\n",
    "\n",
    "    def time_estimation(self, distance):\n",
    "        \"\"\"Call the operation's function from referenced instance variable.\"\"\"\n",
    "        return self._transport.operation(distance)\n",
    "\n",
    "\n",
    "if __name__ == '__main__':\n",
    "\n",
    "    public_transport = PublicTransport()\n",
    "    route_selection = RouteSelection(public_transport)\n",
    "    print('Estimated time to reach destination: ', route_selection.time_estimation(60))\n",
    "\n",
    "    car = Car()\n",
    "    route_selection = RouteSelection(car)\n",
    "    print('Estimated time to reach destination: ', route_selection.time_estimation(60))\n",
    "\n",
    "    bike = Bike()\n",
    "    route_selection = RouteSelection(bike)\n",
    "    print('Estimated time to reach destination: ', route_selection.time_estimation(60))\n"
   ]
  },
  {
   "cell_type": "markdown",
   "id": "16b7d14d",
   "metadata": {},
   "source": [
    "We can extend this design by adding any new mood of transport without affecting the existing implementation."
   ]
  }
 ],
 "metadata": {
  "kernelspec": {
   "display_name": "Python 3 (ipykernel)",
   "language": "python",
   "name": "python3"
  },
  "language_info": {
   "codemirror_mode": {
    "name": "ipython",
    "version": 3
   },
   "file_extension": ".py",
   "mimetype": "text/x-python",
   "name": "python",
   "nbconvert_exporter": "python",
   "pygments_lexer": "ipython3",
   "version": "3.8.10"
  }
 },
 "nbformat": 4,
 "nbformat_minor": 5
}
