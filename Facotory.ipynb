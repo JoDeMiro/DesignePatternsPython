{
  "nbformat": 4,
  "nbformat_minor": 0,
  "metadata": {
    "colab": {
      "name": "Facotory.ipynb",
      "provenance": [],
      "collapsed_sections": [],
      "authorship_tag": "ABX9TyMsoL9nx5ry0j5i0OKuElGG",
      "include_colab_link": true
    },
    "kernelspec": {
      "name": "python3",
      "display_name": "Python 3"
    },
    "language_info": {
      "name": "python"
    }
  },
  "cells": [
    {
      "cell_type": "markdown",
      "metadata": {
        "id": "view-in-github",
        "colab_type": "text"
      },
      "source": [
        "<a href=\"https://colab.research.google.com/github/JoDeMiro/DesignePatternsPython/blob/main/Facotory.ipynb\" target=\"_parent\"><img src=\"https://colab.research.google.com/assets/colab-badge.svg\" alt=\"Open In Colab\"/></a>"
      ]
    },
    {
      "cell_type": "markdown",
      "source": [
        "# Factory Designe Pattern\n",
        "\n",
        "https://python-patterns.guide/gang-of-four/abstract-factory\n"
      ],
      "metadata": {
        "id": "zywXoZwnJp9r"
      }
    },
    {
      "cell_type": "code",
      "execution_count": 7,
      "metadata": {
        "colab": {
          "base_uri": "https://localhost:8080/"
        },
        "id": "rymFLgFMJk3M",
        "outputId": "9fb54c4d-7886-4aa8-9888-ca1c48abd850"
      },
      "outputs": [
        {
          "output_type": "stream",
          "name": "stdout",
          "text": [
            "KerasSolver init\n",
            "ScikitSolver init\n"
          ]
        },
        {
          "output_type": "execute_result",
          "data": {
            "text/plain": [
              "1.0"
            ]
          },
          "metadata": {},
          "execution_count": 7
        }
      ],
      "source": [
        "class KerasSolver():\n",
        "\n",
        "  def __init__(self):\n",
        "    print('KerasSolver init')\n",
        "\n",
        "  def solve(self, integer) -> int:\n",
        "    return integer * 10\n",
        "\n",
        "class ScikitSolver():\n",
        "\n",
        "  def __init__(self):\n",
        "    print('ScikitSolver init')\n",
        "\n",
        "  def solve(self, integer) -> float:\n",
        "    return integer / 10.0\n",
        "\n",
        "class Factory():\n",
        "\n",
        "  @staticmethod\n",
        "  def solve(integer, KerasSolver):\n",
        "    result = KerasSolver.solve(integer)\n",
        "    return result\n",
        "\n",
        "\n",
        "solver = KerasSolver()\n",
        "\n",
        "Factory.solve(10, solver)\n",
        "\n",
        "solver = ScikitSolver()\n",
        "\n",
        "Factory.solve(10, solver)"
      ]
    },
    {
      "cell_type": "code",
      "source": [
        "class Solver():\n",
        "\n",
        "  def __init__(self):\n",
        "    print('Solver init')\n",
        "\n",
        "  def solve(self, integer):\n",
        "    pass\n",
        "\n",
        "class KerasSolver(Solver):\n",
        "\n",
        "  def __init__(self):\n",
        "    print('KerasSolver init')\n",
        "  \n",
        "  def solve(self, integer):\n",
        "    return integer * 10\n",
        "\n",
        "class ScikitSolver(Solver):\n",
        "\n",
        "  def __init__(self):\n",
        "    print('ScikitSolver init')\n",
        "\n",
        "  def solve(self, integer):\n",
        "    return integer / 10.0\n",
        "\n",
        "class Factory():\n",
        "\n",
        "  def solver(integer, solver):\n",
        "    result = solver.solve(integer)\n",
        "    return result\n",
        "\n",
        "\n",
        "keras_solver = KerasSolver()\n",
        "scikit_solver = ScikitSolver()\n",
        "\n",
        "keras_result = Factory.solver(10, keras_solver)\n",
        "scikit_result = Factory.solver(10, scikit_solver)\n",
        "\n",
        "print(keras_result)\n",
        "print(scikit_result)\n"
      ],
      "metadata": {
        "colab": {
          "base_uri": "https://localhost:8080/"
        },
        "id": "oB-NeAPbN7iz",
        "outputId": "b31bd3c4-8d48-458c-c7a5-c57785510639"
      },
      "execution_count": 13,
      "outputs": [
        {
          "output_type": "stream",
          "name": "stdout",
          "text": [
            "KerasSolver init\n",
            "ScikitSolver init\n",
            "100\n",
            "1.0\n"
          ]
        }
      ]
    }
  ]
}