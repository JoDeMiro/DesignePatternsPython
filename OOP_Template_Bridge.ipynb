{
  "nbformat": 4,
  "nbformat_minor": 0,
  "metadata": {
    "colab": {
      "name": "OOP - Template - Bridge.ipynb",
      "provenance": [],
      "collapsed_sections": [],
      "authorship_tag": "ABX9TyPbEAr0IyQLqwFVlONVKsal",
      "include_colab_link": true
    },
    "kernelspec": {
      "name": "python3",
      "display_name": "Python 3"
    },
    "language_info": {
      "name": "python"
    }
  },
  "cells": [
    {
      "cell_type": "markdown",
      "metadata": {
        "id": "view-in-github",
        "colab_type": "text"
      },
      "source": [
        "<a href=\"https://colab.research.google.com/github/JoDeMiro/DesignePatternsPython/blob/main/OOP_Template_Bridge.ipynb\" target=\"_parent\"><img src=\"https://colab.research.google.com/assets/colab-badge.svg\" alt=\"Open In Colab\"/></a>"
      ]
    },
    {
      "cell_type": "code",
      "metadata": {
        "id": "2H7GUcigindg"
      },
      "source": [
        "# https://www.youtube.com/watch?v=t0mCrXHsLbI&ab_channel=ArjanCodes"
      ],
      "execution_count": null,
      "outputs": []
    },
    {
      "cell_type": "code",
      "metadata": {
        "id": "bmQsI1QKiyZI"
      },
      "source": [
        "from abc import ABC, abstractmethod\n",
        "from typing import List"
      ],
      "execution_count": 1,
      "outputs": []
    },
    {
      "cell_type": "code",
      "metadata": {
        "colab": {
          "base_uri": "https://localhost:8080/"
        },
        "id": "BbT72S59izG-",
        "outputId": "b0a73698-c515-46dc-f57c-9a684e0b09c8"
      },
      "source": [
        "class Exchange(ABC):\n",
        "    @abstractmethod\n",
        "    def connect(self):\n",
        "        pass\n",
        "\n",
        "    @abstractmethod\n",
        "    def get_market_data(self, coin: str) -> List[float]:\n",
        "        pass\n",
        "\n",
        "class Binance(Exchange):\n",
        "    def connect(self):\n",
        "        print(f\"Connecting to Binance exchange...\")\n",
        "\n",
        "    def get_market_data(self, coin: str) -> List[float]:\n",
        "        return [10, 12, 18, 14]\n",
        "\n",
        "class Coinbase(Exchange):\n",
        "    def connect(self):\n",
        "        print(f\"Connecting to Coinbase exchange...\")\n",
        "\n",
        "    def get_market_data(self, coin: str) -> List[float]:\n",
        "        return [10, 12, 18, 20]\n",
        "\n",
        "\n",
        "class TradingBot(ABC):\n",
        "\n",
        "    def __init__(self, exchange: Exchange):\n",
        "        self.exchange = exchange\n",
        "\n",
        "    def check_prices(self, coin: str):\n",
        "        self.exchange.connect()\n",
        "        prices = self.exchange.get_market_data(coin)\n",
        "        should_buy = self.should_buy(prices)\n",
        "        should_sell = self.should_sell(prices)\n",
        "        if should_buy:\n",
        "            print(f\"You should buy {coin}!\")\n",
        "        elif should_sell:\n",
        "            print(f\"You should sell {coin}!\")\n",
        "        else:\n",
        "            print(f\"No action needed for {coin}.\")\n",
        "\n",
        "    @abstractmethod\n",
        "    def should_buy(self, prices: List[float]) -> bool:\n",
        "        pass\n",
        "\n",
        "    @abstractmethod\n",
        "    def should_sell(self, prices: List[float]) -> bool:\n",
        "        pass\n",
        "\n",
        "class AverageTrader(TradingBot):\n",
        "    def list_average(self, l: List[float]) -> float:\n",
        "        return sum(l) / len(l)\n",
        "\n",
        "    def should_buy(self, prices: List[float]) -> bool:\n",
        "        return prices[-1] < self.list_average(prices)\n",
        "\n",
        "    def should_sell(self, prices: List[float]) -> bool:\n",
        "        return prices[-1] > self.list_average(prices)\n",
        "\n",
        "class MinMaxTrader(TradingBot):\n",
        "\n",
        "    def should_buy(self, prices: List[float]) -> bool:\n",
        "        return prices[-1] == min(prices)\n",
        "\n",
        "    def should_sell(self, prices: List[float]) -> bool:\n",
        "        return prices[-1] == max(prices)\n",
        "\n",
        "application = AverageTrader(Coinbase())\n",
        "application.check_prices(\"BTC/USD\")"
      ],
      "execution_count": 2,
      "outputs": [
        {
          "output_type": "stream",
          "name": "stdout",
          "text": [
            "Connecting to Coinbase exchange...\n",
            "You should sell BTC/USD!\n"
          ]
        }
      ]
    },
    {
      "cell_type": "code",
      "metadata": {
        "id": "I1Ihk8zKi3b9"
      },
      "source": [
        ""
      ],
      "execution_count": null,
      "outputs": []
    }
  ]
}